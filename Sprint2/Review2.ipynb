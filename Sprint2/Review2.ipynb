{
 "cells": [
  {
   "cell_type": "code",
   "execution_count": 12,
   "metadata": {
    "dotnet_interactive": {
     "language": "csharp"
    },
    "polyglot_notebook": {
     "kernelName": "csharp"
    },
    "vscode": {
     "languageId": "polyglot-notebook"
    }
   },
   "outputs": [
    {
     "name": "stdout",
     "output_type": "stream",
     "text": [
      "Имя сотрудника: Аделия, Должность: Работник, Зарплата: 50000\n",
      "\n",
      "Имя сотрудника: Софа, Должность: Менеджер, Зарплата: 70000\n",
      "Отдел: IT\n",
      "\n",
      "Имя сотрудника: Лера, Должность: Проектный менеджер, Зарплата: 90000\n",
      "Отдел: IT\n",
      "Название проекта: Новый сайт\n",
      "\n",
      "Имя сотрудника: Лера, Должность: Проектный менеджер, Зарплата: 90000\n",
      "Отдел: IT\n",
      "Название проекта: Новый сайт\n",
      "Отчёт: Все задачи выполнены\n",
      "Члены команды: Аделия, Софа\n"
     ]
    }
   ],
   "source": [
    "using System;\n",
    "using System.Collections.Generic;\n",
    "\n",
    "// Создание базового класса Employee\n",
    "public class Employee\n",
    "{\n",
    "    public string Name { get; set; }\n",
    "    public string Position { get; set; }\n",
    "    public double Salary { get; set; }\n",
    "\n",
    "    public Employee(string name, string position, double salary)\n",
    "    {\n",
    "        Name = name;\n",
    "        Position = position;\n",
    "        Salary = salary;\n",
    "    }\n",
    "\n",
    "    public virtual void PrintInfo()\n",
    "    {\n",
    "        Console.WriteLine($\"Имя сотрудника: {Name}, Должность: {Position}, Зарплата: {Salary}\");\n",
    "    }\n",
    "}\n",
    "\n",
    "// Простое наследование: класс Manager, наследуемый от базового класса Employee\n",
    "public class Manager : Employee\n",
    "{\n",
    "    public string Department { get; set; }\n",
    "\n",
    "    public Manager(string name, string position, double salary, string department)\n",
    "        : base(name, position, salary)\n",
    "    {\n",
    "        Department = department;\n",
    "    }\n",
    "\n",
    "    public override void PrintInfo()\n",
    "    {\n",
    "        base.PrintInfo();\n",
    "        Console.WriteLine($\"Отдел: {Department}\");\n",
    "    }\n",
    "}\n",
    "\n",
    "// Сложное наследование: класс ProjectManager, наследуемый от производного класса Manager\n",
    "public class ProjectManager : Manager\n",
    "{\n",
    "    public string ProjectName { get; set; }\n",
    "\n",
    "    public ProjectManager(string name, string position, double salary, string department, string projectName)\n",
    "        : base(name, position, salary, department)\n",
    "    {\n",
    "        ProjectName = projectName;\n",
    "    }\n",
    "\n",
    "    public override void PrintInfo()\n",
    "    {\n",
    "        base.PrintInfo();\n",
    "        Console.WriteLine($\"Название проекта: {ProjectName}\");\n",
    "    }\n",
    "}\n",
    "\n",
    "// Создание интерфейсов\n",
    "public interface IReportable\n",
    "{\n",
    "    string GenerateReport(); // возвращает строку с отчётом\n",
    "}\n",
    "\n",
    "public interface ITeamLeader\n",
    "{\n",
    "    List<string> GetTeamMembers(); // возвращает список членов команды\n",
    "}\n",
    "\n",
    "// Множественное наследование: реализация интерфейсов в проектном менеджере\n",
    "public class ProjectManagerWithInterfaces : ProjectManager, IReportable, ITeamLeader\n",
    "{\n",
    "    public string Report { get; set; }\n",
    "\n",
    "    private List<string> TeamMembers;\n",
    "\n",
    "    public ProjectManagerWithInterfaces(string name, string position, double salary, string department, string projectName, string report, List<string> teamMembers)\n",
    "        : base(name, position, salary, department, projectName)\n",
    "    {\n",
    "        TeamMembers = teamMembers;\n",
    "        Report = report;\n",
    "    }\n",
    "\n",
    "    public override void PrintInfo()\n",
    "    {\n",
    "        base.PrintInfo();\n",
    "    }\n",
    "\n",
    "    public string GenerateReport()\n",
    "    {\n",
    "        return $\"Отчёт: {Report}\"; // возвращается строка с отчётом\n",
    "    }\n",
    "\n",
    "    public List<string> GetTeamMembers()\n",
    "    {\n",
    "        return TeamMembers; // возвращает список членов команды\n",
    "    }\n",
    "}\n",
    "\n",
    "// Тестирование\n",
    "\n",
    "Employee employee = new Employee(\"Аделия\", \"Работник\", 50000);\n",
    "employee.PrintInfo();\n",
    "Console.WriteLine();\n",
    "\n",
    "Manager manager = new Manager(\"Софа\", \"Менеджер\", 70000, \"IT\");\n",
    "manager.PrintInfo();\n",
    "Console.WriteLine();\n",
    "\n",
    "ProjectManager projectManager = new ProjectManager(\"Лера\", \"Проектный менеджер\", 90000, \"IT\", \"Новый сайт\");\n",
    "projectManager.PrintInfo();\n",
    "Console.WriteLine();\n",
    "\n",
    "// Тестирование ProjectManager с интерфейсами\n",
    "List<string> teamMembers = new List<string> { \"Аделия\", \"Софа\" };\n",
    "ProjectManagerWithInterfaces pm = new ProjectManagerWithInterfaces(\"Лера\", \"Проектный менеджер\", 90000, \"IT\", \"Новый сайт\", \"Все задачи выполнены\", teamMembers);\n",
    "\n",
    "pm.PrintInfo();\n",
    "Console.WriteLine(pm.GenerateReport());\n",
    "\n",
    "Console.WriteLine(\"Члены команды: \" + string.Join(\", \", pm.GetTeamMembers()));\n",
    "\n"
   ]
  }
 ],
 "metadata": {
  "kernelspec": {
   "display_name": ".NET (C#)",
   "language": "C#",
   "name": ".net-csharp"
  },
  "language_info": {
   "name": "python"
  },
  "polyglot_notebook": {
   "kernelInfo": {
    "defaultKernelName": "csharp",
    "items": [
     {
      "aliases": [],
      "name": "csharp"
     }
    ]
   }
  }
 },
 "nbformat": 4,
 "nbformat_minor": 2
}

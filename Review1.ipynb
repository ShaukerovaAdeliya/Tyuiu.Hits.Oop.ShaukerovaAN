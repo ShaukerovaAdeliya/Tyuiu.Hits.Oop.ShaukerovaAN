{
 "cells": [
  {
   "cell_type": "code",
   "execution_count": 43,
   "metadata": {
    "dotnet_interactive": {
     "language": "csharp"
    },
    "polyglot_notebook": {
     "kernelName": "csharp"
    },
    "vscode": {
     "languageId": "polyglot-notebook"
    }
   },
   "outputs": [
    {
     "name": "stdout",
     "output_type": "stream",
     "text": [
      "Название: Айфон, Цена: 110000, Количество: 10, Категория: Электроника, Описание: Айфон 15 pro max\n",
      "Название: Айфон, Цена: 110000, Количество: 15, Категория: Электроника, Описание: Айфон 15 pro max\n",
      "Общая стоимость: 1650000\n",
      "Имя продавца: Аделия, ID продавца: 123, Зарплата: 500000, Контактная информация: shaukerovaa68@gmail.com\n",
      "Добавлен товар: Макбук, Цена: 150000, Количество: 5\n",
      "Продано: Макбук, 3 штуки\n",
      "Название: Apple72, Местоположение: Мельникайте 56, Часы работы: 12\n",
      "Имя продавца: Саша, ID продавца: 130, Зарплата: 500000, Контактная информация: sasha@gmail.com\n",
      "Название: Apple72, Местоположение: Мельникайте 56, Часы работы: 12\n"
     ]
    }
   ],
   "source": [
    "using System;\n",
    "\n",
    "public class Product\n",
    "{\n",
    "    private string Name { get; set; }\n",
    "    private decimal Price { get; set; }\n",
    "    private int Quantity { get; set; }\n",
    "    protected string Category { get; set; }\n",
    "    internal string Desrciption { get; set; }\n",
    "\n",
    "    public Product (string name, decimal price, int quantity, string category, string description)\n",
    "    {\n",
    "        Name = name;\n",
    "        Price = price;\n",
    "        Quantity = quantity;\n",
    "        Category = category;\n",
    "        Desrciption = description;\n",
    "    }\n",
    "\n",
    "    // Возвращает общую стоимость всех единиц товара\n",
    "    public decimal GetTotalPrice()\n",
    "    {\n",
    "        return Price * Quantity;\n",
    "    }\n",
    "\n",
    "    // обновляет количество товара на указанное значение \n",
    "    public void UpdateQuantity(int amount)\n",
    "    {\n",
    "        Quantity += amount;\n",
    "    }\n",
    "\n",
    "    // возвращает строку с полным описанием товара\n",
    "    public string GetProductInfo()\n",
    "    {\n",
    "        return $\"Название: {Name}, Цена: {Price}, Количество: {Quantity}, Категория: {Category}, Описание: {Desrciption}\";\n",
    "    }\n",
    "}\n",
    "\n",
    "// Класс Продавец\n",
    "public class Seller\n",
    "{\n",
    "    private string Name { get; set; }\n",
    "    private string EmployeeId { get; set; }\n",
    "    protected decimal Salary { get; set; }\n",
    "    internal string ContactInfo { get; set; }\n",
    "\n",
    "    public Seller(string name, string employeeId, decimal salary, string contactInfo)\n",
    "    {\n",
    "        Name = name;\n",
    "        EmployeeId = employeeId;\n",
    "        Salary = salary;\n",
    "        ContactInfo = contactInfo;\n",
    "    }\n",
    "\n",
    "    public void AddProduct(string productName, decimal price, int quantity)\n",
    "    {\n",
    "        Console.WriteLine($\"Добавлен товар: {productName}, Цена: {price}, Количество: {quantity}\");\n",
    "    }\n",
    "\n",
    "    public void SellProduct(string productName, int quantity)\n",
    "    {\n",
    "        Console.WriteLine($\"Продано: {productName}, {quantity} штуки\");\n",
    "    }\n",
    "\n",
    "    public string GetSellerInfo()\n",
    "    {\n",
    "        return $\"Имя продавца: {Name}, ID продавца: {EmployeeId}, Зарплата: {Salary}, Контактная информация: {ContactInfo}\";\n",
    "    }\n",
    "}\n",
    "\n",
    "// Класс Магазин\n",
    "public class Store\n",
    "{\n",
    "    private string storeName;\n",
    "    private string location;\n",
    "    public string storeHours;\n",
    "\n",
    "    public Store(string storeName, string location, string storeHours)\n",
    "    {\n",
    "        this.storeName = storeName;\n",
    "        this.location = location;\n",
    "        this.storeHours = storeHours;\n",
    "    }\n",
    "\n",
    "    private List<Seller> sellers = new List<Seller>();\n",
    "\n",
    "    public void AddSeller(Seller seller)\n",
    "    {\n",
    "        sellers.Add(seller);\n",
    "    }\n",
    "\n",
    "    public void ListProducts()\n",
    "    {\n",
    "        foreach (var seller in sellers)\n",
    "        {\n",
    "            Console.WriteLine(seller.GetSellerInfo());\n",
    "        }\n",
    "    }\n",
    "\n",
    "    public string GetStoreInfo()\n",
    "    {\n",
    "        return $\"Название: {storeName}, Местоположение: {location}, Часы работы: {storeHours}\";\n",
    "    }\n",
    "}\n",
    "\n",
    "Product product1 = new Product(\"Айфон\", 110000, 10, \"Электроника\", \"Айфон 15 pro max\");\n",
    "Console.WriteLine(product1.GetProductInfo());\n",
    "product1.UpdateQuantity(5);\n",
    "Console.WriteLine(product1.GetProductInfo());\n",
    "decimal totalCost = product1.GetTotalPrice();\n",
    "Console.WriteLine($\"Общая стоимость: {totalCost}\");\n",
    "\n",
    "Seller seller1 = new Seller(\"Аделия\", \"123\", 500000, \"shaukerovaa68@gmail.com\");\n",
    "Console.WriteLine(seller1.GetSellerInfo());\n",
    "\n",
    "seller.AddProduct(\"Макбук\", 150000, 5);\n",
    "seller.SellProduct(\"Макбук\", 3);\n",
    "\n",
    "Store store = new Store(\"Apple72\", \"Мельникайте 56\", \"12\");\n",
    "Console.WriteLine(store.GetStoreInfo());\n",
    "store.ListProducts();\n",
    "\n",
    "Seller seller2 = new Seller(\"Саша\", \"130\", 500000, \"sasha@gmail.com\");\n",
    "Console.WriteLine(seller2.GetSellerInfo());\n",
    "store.AddSeller(seller2);\n",
    "Console.WriteLine(store.GetStoreInfo());\n"
   ]
  }
 ],
 "metadata": {
  "kernelspec": {
   "display_name": ".NET (C#)",
   "language": "C#",
   "name": ".net-csharp"
  },
  "language_info": {
   "name": "csharp"
  },
  "polyglot_notebook": {
   "kernelInfo": {
    "defaultKernelName": "csharp",
    "items": [
     {
      "aliases": [],
      "name": "csharp"
     }
    ]
   }
  }
 },
 "nbformat": 4,
 "nbformat_minor": 2
}

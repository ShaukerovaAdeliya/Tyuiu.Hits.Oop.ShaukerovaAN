{
 "cells": [
  {
   "cell_type": "code",
   "execution_count": 1,
   "metadata": {
    "dotnet_interactive": {
     "language": "csharp"
    },
    "polyglot_notebook": {
     "kernelName": "csharp"
    },
    "vscode": {
     "languageId": "polyglot-notebook"
    }
   },
   "outputs": [
    {
     "ename": "Error",
     "evalue": "(66,59): error CS1733: Expected expression",
     "output_type": "error",
     "traceback": [
      "(66,59): error CS1733: Expected expression"
     ]
    }
   ],
   "source": [
    "public class Plant\n",
    "{\n",
    "    public string Name { get; set; } \n",
    "    public string Type { get; set; } \n",
    "    public float Height { get; set; } \n",
    "\n",
    "    public Plant (string name, string type, float height)\n",
    "    {\n",
    "        Name = name;\n",
    "        Type = type;\n",
    "        Height = height;\n",
    "    }\n",
    "\n",
    "    public virtual void Info()\n",
    "    {\n",
    "        Console.WriteLine($\"Тип растения: {Type}, Название растения: {Name}, Высота растения: {Height} см.\");\n",
    "    }\n",
    "\n",
    "    public virtual void Bloom()\n",
    "    {\n",
    "        Console.WriteLine($\"{Type} растет!\");\n",
    "    }\n",
    "\n",
    "    public virtual void Grow(float growth)\n",
    "    {\n",
    "        if (growth > 0)\n",
    "        {\n",
    "            Height += growth;\n",
    "            Console.WriteLine($\"{Name} вырос на {growth} см. Актуальная высота растения: {Height} см.\");\n",
    "        }\n",
    "    }\n",
    "\n",
    "}\n",
    "\n",
    "public class Tree : Plant\n",
    "{\n",
    "    public int Age { get; set; }\n",
    "    public string TypeLeaf { get; set; }\n",
    "\n",
    "    public Tree (string name, string type, float height, int age, string typeleaf): base (name, type, height, age, typeleaf)\n",
    "    {\n",
    "        Age = age;\n",
    "        TypeLeaf = typeleaf;\n",
    "    }\n",
    "\n",
    "    public override void Bloom()\n",
    "    {\n",
    "        Console.WriteLine(\"\");\n",
    "    }\n",
    "\n",
    "    public void Grow(int age)\n",
    "    {\n",
    "        if (age > 0)\n",
    "        {\n",
    "            Age += age;\n",
    "            Console.WriteLine($\"{Name} вырос на {age} см. Теперь высота составляет {Age} см.\");\n",
    "        }\n",
    "        else\n",
    "        {\n",
    "            Console.WriteLine(\"Рост должен быть положительным значением.\");\n",
    "        }\n",
    "    }\n",
    "\n",
    "    public override void Info()\n",
    "    {\n",
    "        Console.WriteLine($\"Возраст: {Age}, Тип листьев: {}\");\n",
    "    }\n",
    "}\n",
    "\n",
    "Tree tree = new Tree(\"Дерево\", \"Дуб\", 50, 30, \"Хвойнные\");\n",
    "tree.Info();\n",
    "\n",
    "\n",
    "\n",
    "\n"
   ]
  },
  {
   "cell_type": "code",
   "execution_count": 2,
   "metadata": {
    "dotnet_interactive": {
     "language": "csharp"
    },
    "polyglot_notebook": {
     "kernelName": "csharp"
    },
    "vscode": {
     "languageId": "polyglot-notebook"
    }
   },
   "outputs": [
    {
     "ename": "Error",
     "evalue": "(70,18): error CS1729: 'Plant' does not contain a constructor that takes 5 arguments\r\n(40,85): error CS1729: 'Plant' does not contain a constructor that takes 5 arguments",
     "output_type": "error",
     "traceback": [
      "(70,18): error CS1729: 'Plant' does not contain a constructor that takes 5 arguments\r\n",
      "(40,85): error CS1729: 'Plant' does not contain a constructor that takes 5 arguments"
     ]
    }
   ],
   "source": [
    "public class Plant\n",
    "{\n",
    "    public string Name { get; set; } \n",
    "    public string Type { get; set; } \n",
    "    public float Height { get; set; } \n",
    "\n",
    "    // public Plant (string name, string type, float height)\n",
    "    // {\n",
    "    //     Name = name;\n",
    "    //     Type = type;\n",
    "    //     Height = height;\n",
    "    // }\n",
    "\n",
    "    public virtual void Info()\n",
    "    {\n",
    "        Console.WriteLine($\"Тип растения: {Type}, Название растения: {Name}, Высота растения: {Height} см.\");\n",
    "    }\n",
    "\n",
    "    public virtual void Bloom()\n",
    "    {\n",
    "        Console.WriteLine($\"{Type} растет!\");\n",
    "    }\n",
    "\n",
    "    public virtual void Grow(float growth)\n",
    "    {\n",
    "        if (growth > 0)\n",
    "        {\n",
    "            Height += growth;\n",
    "            Console.WriteLine($\"{Name} вырос на {growth} см. Актуальная высота растения: {Height} см.\");\n",
    "        }\n",
    "    }\n",
    "\n",
    "}\n",
    "\n",
    "public class Tree : Plant\n",
    "{\n",
    "    public int Age { get; set; }\n",
    "    public string TypeLeaf { get; set; }\n",
    "\n",
    "    public Tree (string name, string type, float height, int age, string typeleaf): base (name, type, height, age, typeleaf)\n",
    "    {\n",
    "        Age = age;\n",
    "        TypeLeaf = typeleaf;\n",
    "    }\n",
    "\n",
    "    public override void Bloom()\n",
    "    {\n",
    "        Console.WriteLine(\"\");\n",
    "    }\n",
    "\n",
    "    public void Grow(int age)\n",
    "    {\n",
    "        if (age > 0)\n",
    "        {\n",
    "            Age += age;\n",
    "            Console.WriteLine($\"{Name} вырос на {age} см. Теперь высота составляет {Age} см.\");\n",
    "        }\n",
    "        else\n",
    "        {\n",
    "            Console.WriteLine(\"Рост должен быть положительным значением.\");\n",
    "        }\n",
    "    }\n",
    "\n",
    "    public override void Info()\n",
    "    {\n",
    "        Console.WriteLine($\"Возраст: {Age}, Тип листьев: {TypeLeaf}\");\n",
    "    }\n",
    "}\n",
    "\n",
    "Plant tree = new Plant(\"Дерево\", \"Дуб\", 50, 2, \"jjjj\");\n",
    "tree.Info();\n"
   ]
  },
  {
   "cell_type": "code",
   "execution_count": 3,
   "metadata": {
    "dotnet_interactive": {
     "language": "csharp"
    },
    "polyglot_notebook": {
     "kernelName": "csharp"
    },
    "vscode": {
     "languageId": "polyglot-notebook"
    }
   },
   "outputs": [
    {
     "name": "stdout",
     "output_type": "stream",
     "text": [
      "Имя: Дерево, Тип: Дуб, Высота: 50, Возраст: 30, Тип Листьев: Лиственные\n",
      "Дуб цветет с уникальными цветами!\n",
      "Дуб теперь 35 лет.\n"
     ]
    }
   ],
   "source": [
    "using System;\n",
    "\n",
    "public class Plant\n",
    "{\n",
    "    public string Name { get; set; }  \n",
    "    public string Type { get; set; }  \n",
    "    public float Height { get; set; }  \n",
    "\n",
    "    public Plant(string name, string type, float height)\n",
    "    {\n",
    "        Name = name;\n",
    "        Type = type;\n",
    "        Height = height;\n",
    "    }\n",
    "\n",
    "    public virtual void DisplayInfo()\n",
    "    {\n",
    "        Console.WriteLine($\"Имя: {Name}, Тип: {Type}, Высота: {Height}\");\n",
    "    }\n",
    "\n",
    "    public virtual void Bloom()\n",
    "    {\n",
    "        Console.WriteLine($\"{Name} цветет!\");\n",
    "    }\n",
    "\n",
    "    public void Grow(float growth)\n",
    "    {\n",
    "        if (growth > 0)\n",
    "        {\n",
    "            Height += growth;\n",
    "            Console.WriteLine($\"{Name} вырос на {growth} см. Теперь высота составляет {Height} см.\");\n",
    "        }\n",
    "        else\n",
    "        {\n",
    "            Console.WriteLine(\"Рост должен быть положительным значением.\");\n",
    "        }\n",
    "    }\n",
    "}\n",
    "\n",
    "public class Tree : Plant\n",
    "{\n",
    "    public int Age { get; set; }  \n",
    "    public string LeafType { get; set; }  \n",
    "\n",
    "    public Tree(string name, string type, float height, int age, string leafType)\n",
    "        : base(name, type, height) \n",
    "    {\n",
    "        Age = age;\n",
    "        LeafType = leafType;\n",
    "    }\n",
    "\n",
    "    public override void Bloom()\n",
    "    {\n",
    "        Console.WriteLine($\"{Type} цветет с уникальными цветами!\");\n",
    "    }\n",
    "\n",
    "    public void Grow(int years)\n",
    "    {\n",
    "        if (years > 0)\n",
    "        {\n",
    "            Age += years;\n",
    "            Console.WriteLine($\"{Type} теперь {Age} лет.\");\n",
    "        }\n",
    "        else\n",
    "        {\n",
    "            Console.WriteLine(\"Возраст должен увеличиваться положительным значением.\");\n",
    "        }\n",
    "    }\n",
    "\n",
    "    public override void DisplayInfo()\n",
    "    {\n",
    "        Console.WriteLine($\"Имя: {Name}, Тип: {Type}, Высота: {Height}, Возраст: {Age}, Тип Листьев: {LeafType}\");\n",
    "    }\n",
    "}\n",
    "\n",
    "Tree oak = new Tree(\"Дерево\", \"Дуб\", 50, 30, \"Лиственные\");\n",
    "oak.DisplayInfo();\n",
    "{\n",
    "    oak.Bloom();\n",
    "    oak.Grow(5);\n",
    "}\n",
    "\n",
    "\n"
   ]
  }
 ],
 "metadata": {
  "kernelspec": {
   "display_name": ".NET (C#)",
   "language": "C#",
   "name": ".net-csharp"
  },
  "language_info": {
   "name": "csharp"
  },
  "polyglot_notebook": {
   "kernelInfo": {
    "defaultKernelName": "csharp",
    "items": [
     {
      "aliases": [],
      "name": "csharp"
     }
    ]
   }
  }
 },
 "nbformat": 4,
 "nbformat_minor": 2
}

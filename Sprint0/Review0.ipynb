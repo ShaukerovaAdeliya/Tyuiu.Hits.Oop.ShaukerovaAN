{
 "cells": [
  {
   "cell_type": "code",
   "execution_count": 1,
   "metadata": {
    "dotnet_interactive": {
     "language": "csharp"
    },
    "polyglot_notebook": {
     "kernelName": "csharp"
    },
    "vscode": {
     "languageId": "polyglot-notebook"
    }
   },
   "outputs": [
    {
     "name": "stdout",
     "output_type": "stream",
     "text": [
      "Имя: Дерево, Тип: Дуб, Высота: 50, Возраст: 30, Тип Листьев: Лиственные\n",
      "Дуб цветет с уникальными цветами!\n",
      "Дуб теперь 35 лет.\n"
     ]
    }
   ],
   "source": [
    "using System;\n",
    "\n",
    "public class Plant\n",
    "{\n",
    "    public string Name { get; set; }  \n",
    "    public string Type { get; set; }  \n",
    "    public float Height { get; set; }  \n",
    "\n",
    "    public Plant(string name, string type, float height)\n",
    "    {\n",
    "        Name = name;\n",
    "        Type = type;\n",
    "        Height = height;\n",
    "    }\n",
    "\n",
    "    public virtual void DisplayInfo()\n",
    "    {\n",
    "        Console.WriteLine($\"Имя: {Name}, Тип: {Type}, Высота: {Height}\");\n",
    "    }\n",
    "\n",
    "    public virtual void Bloom()\n",
    "    {\n",
    "        Console.WriteLine($\"{Name} цветет!\");\n",
    "    }\n",
    "\n",
    "    public void Grow(float growth)\n",
    "    {\n",
    "        if (growth > 0)\n",
    "        {\n",
    "            Height += growth;\n",
    "            Console.WriteLine($\"{Name} вырос на {growth} см. Теперь высота составляет {Height} см.\");\n",
    "        }\n",
    "        else\n",
    "        {\n",
    "            Console.WriteLine(\"Рост должен быть положительным значением.\");\n",
    "        }\n",
    "    }\n",
    "}\n",
    "\n",
    "public class Tree : Plant\n",
    "{\n",
    "    public int Age { get; set; }  \n",
    "    public string LeafType { get; set; }  \n",
    "\n",
    "    public Tree(string name, string type, float height, int age, string leafType)\n",
    "        : base(name, type, height) \n",
    "    {\n",
    "        Age = age;\n",
    "        LeafType = leafType;\n",
    "    }\n",
    "\n",
    "    public override void Bloom()\n",
    "    {\n",
    "        Console.WriteLine($\"{Type} цветет с уникальными цветами!\");\n",
    "    }\n",
    "\n",
    "    public void Grow(int years)\n",
    "    {\n",
    "        if (years > 0)\n",
    "        {\n",
    "            Age += years;\n",
    "            Console.WriteLine($\"{Type} теперь {Age} лет.\");\n",
    "        }\n",
    "        else\n",
    "        {\n",
    "            Console.WriteLine(\"Возраст должен увеличиваться положительным значением.\");\n",
    "        }\n",
    "    }\n",
    "\n",
    "    public override void DisplayInfo()\n",
    "    {\n",
    "        Console.WriteLine($\"Имя: {Name}, Тип: {Type}, Высота: {Height}, Возраст: {Age}, Тип Листьев: {LeafType}\");\n",
    "    }\n",
    "}\n",
    "\n",
    "Tree oak = new Tree(\"Дерево\", \"Дуб\", 50, 30, \"Лиственные\");\n",
    "oak.DisplayInfo();\n",
    "{\n",
    "    oak.Bloom();\n",
    "    oak.Grow(5);\n",
    "}\n",
    "\n",
    "\n"
   ]
  }
 ],
 "metadata": {
  "kernelspec": {
   "display_name": ".NET (C#)",
   "language": "C#",
   "name": ".net-csharp"
  },
  "language_info": {
   "name": "csharp"
  },
  "polyglot_notebook": {
   "kernelInfo": {
    "defaultKernelName": "csharp",
    "items": [
     {
      "aliases": [],
      "name": "csharp"
     }
    ]
   }
  }
 },
 "nbformat": 4,
 "nbformat_minor": 2
}
